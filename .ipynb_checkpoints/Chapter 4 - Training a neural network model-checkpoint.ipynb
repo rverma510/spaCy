{
 "cells": [
  {
   "cell_type": "markdown",
   "metadata": {},
   "source": [
    "# Training and updating models"
   ]
  },
  {
   "cell_type": "markdown",
   "metadata": {},
   "source": [
    "<section data-markdown=\"\" data-markdown-parsed=\"true\" class=\"present\" style=\"display: block;\"><h1 id=\"why-updating-the-model\">Why updating the model?</h1>\n",
    "<ul>\n",
    "<li>Better results on your specific domain</li>\n",
    "<li>Learn classification schemes specifically for your problem</li>\n",
    "<li>Essential for text classification</li>\n",
    "<li>Very useful for named entity recognition</li>\n",
    "<li>Less critical for part-of-speech tagging and dependency parsing</li>\n",
    "</ul>\n",
    "</section>\n",
    "\n",
    "<section data-markdown=\"\" data-markdown-parsed=\"true\" class=\"present\" style=\"display: block;\"><h1 id=\"how-training-works-1\">How training works (1)</h1>\n",
    "<ol>\n",
    "<li><strong>Initialize</strong> the model weights randomly with <code>nlp.begin_training</code></li>\n",
    "<li><strong>Predict</strong> a few examples with the current weights by calling <code>nlp.update</code></li>\n",
    "<li><strong>Compare</strong> prediction with true labels</li>\n",
    "<li><strong>Calculate</strong> how to change weights to improve predictions</li>\n",
    "<li><strong>Update</strong> weights slightly</li>\n",
    "<li>Go back to 2.</li>\n",
    "</ol>\n",
    "</section>    \n",
    "\n",
    "<section data-markdown=\"\" data-markdown-parsed=\"true\" class=\"present\" style=\"display: block;\"><h1 id=\"how-training-works-2\">How training works (2)</h1>\n",
    "<img src=\"training.png\" alt=\"Diagram of the training process\">\n",
    "\n",
    "<ul>\n",
    "<li><strong>Training data:</strong> Examples and their annotations.</li>\n",
    "<li><strong>Text:</strong> The input text the model should predict a label for.</li>\n",
    "<li><strong>Label:</strong> The label the model should predict.</li>\n",
    "<li><strong>Gradient:</strong> How to change the weights.</li>\n",
    "</ul>\n",
    "</section>\n",
    "\n",
    "<section data-markdown=\"\" data-markdown-parsed=\"true\" class=\"present\" style=\"display: block;\"><h1 id=\"example-training-the-entity-recognizer\">Example: Training the entity recognizer</h1>\n",
    "<ul>\n",
    "<li>The entity recognizer tags words and phrases in context</li>\n",
    "<li>Each token can only be part of one entity</li>\n",
    "<li>Examples need to come with context</li>\n",
    "</ul>\n",
    "<pre class=\" language-python\"><code class=\" language-python\"><span class=\"token punctuation\">(</span><span class=\"token string\">\"iPhone X is coming\"</span><span class=\"token punctuation\">,</span> <span class=\"token punctuation\">{</span><span class=\"token string\">\"entities\"</span><span class=\"token punctuation\">:</span> <span class=\"token punctuation\">[</span><span class=\"token punctuation\">(</span><span class=\"token number\">0</span><span class=\"token punctuation\">,</span> <span class=\"token number\">8</span><span class=\"token punctuation\">,</span> <span class=\"token string\">\"GADGET\"</span><span class=\"token punctuation\">)</span><span class=\"token punctuation\">]</span><span class=\"token punctuation\">}</span><span class=\"token punctuation\">)</span></code></pre>\n",
    "<ul>\n",
    "<li>Texts with no entities are also important</li>\n",
    "</ul>\n",
    "<pre class=\" language-python\"><code class=\" language-python\"><span class=\"token punctuation\">(</span><span class=\"token string\">\"I need a new phone! Any tips?\"</span><span class=\"token punctuation\">,</span> <span class=\"token punctuation\">{</span><span class=\"token string\">\"entities\"</span><span class=\"token punctuation\">:</span> <span class=\"token punctuation\">[</span><span class=\"token punctuation\">]</span><span class=\"token punctuation\">}</span><span class=\"token punctuation\">)</span></code></pre>\n",
    "<ul>\n",
    "<li><strong>Goal:</strong> teach the model to generalize</li>\n",
    "</ul>\n",
    "</section>\n",
    "\n",
    "<section data-markdown=\"\" data-markdown-parsed=\"true\" class=\"present\" style=\"display: block;\"><h1 id=\"the-training-data\">The training data</h1>\n",
    "<ul>\n",
    "<li>Examples of what we want the model to predict in context</li>\n",
    "<li>Update an <strong>existing model</strong>: a few hundred to a few thousand examples</li>\n",
    "<li>Train a <strong>new category</strong>: a few thousand to a million examples<ul>\n",
    "<li>spaCy's English models: 2 million words</li>\n",
    "</ul>\n",
    "</li>\n",
    "<li>Usually created manually by human annotators</li>\n",
    "<li>Can be semi-automated – for example, using spaCy's <code>Matcher</code>!</li>\n",
    "</ul>\n",
    "</section>"
   ]
  },
  {
   "cell_type": "markdown",
   "metadata": {},
   "source": [
    "# Practice"
   ]
  },
  {
   "cell_type": "markdown",
   "metadata": {},
   "source": [
    "<h3>Creating training data (1)</h3>\n",
    "<p>1 Write a pattern for two tokens whose lowercase forms match \"iphone\" and \"x\".</p>\n",
    "<p>2 Write a pattern for two tokens: one token whose lowercase form matches \"iphone\" and a digit using the \"?\" operator.</p>"
   ]
  },
  {
   "cell_type": "code",
   "execution_count": 1,
   "metadata": {},
   "outputs": [
    {
     "name": "stdout",
     "output_type": "stream",
     "text": [
      "[iPhone X]\n",
      "[iPhone X]\n",
      "[iPhone X]\n",
      "[iPhone 8]\n",
      "[iPhone 11, iPhone 8]\n",
      "[]\n"
     ]
    }
   ],
   "source": [
    "from spacy.matcher import Matcher\n",
    "from spacy.lang.en import English\n",
    "\n",
    "TEXTS = ['How to preorder the iPhone X', 'iPhone X is coming', 'Should I pay $1,000 for the iPhone X?', 'The iPhone 8 reviews are here', \"iPhone 11 vs iPhone 8: What's the difference?\", 'I need a new phone! Any tips?']\n",
    "\n",
    "nlp = English()\n",
    "matcher = Matcher(nlp.vocab)\n",
    "\n",
    "# Two tokens whose lowercase forms match \"iphone\" and \"x\"\n",
    "pattern1 = [{\"LOWER\": \"iphone\"}, {\"LOWER\": \"x\"}]\n",
    "\n",
    "# Token whose lowercase form matches \"iphone\" and a digit\n",
    "pattern2 = [{\"LOWER\": \"iphone\"}, {\"IS_DIGIT\": True}]\n",
    "\n",
    "# Add patterns to the matcher and check the result\n",
    "matcher.add(\"GADGET\", None, pattern1, pattern2)\n",
    "for doc in nlp.pipe(TEXTS):\n",
    "    print([doc[start:end] for match_id, start, end in matcher(doc)])"
   ]
  },
  {
   "cell_type": "markdown",
   "metadata": {},
   "source": [
    "<h3>Creating training data (2)</h3>\n",
    "<p>1 Create a doc object for each text using nlp.pipe.</p>\n",
    "<p>2 Match on the doc and create a list of matched spans.</p>\n",
    "<p>3 Get (start character, end character, label) tuples of matched spans.</p>\n",
    "<p>4 Format each example as a tuple of the text and a dict, mapping \"entities\" to the entity tuples.</p>\n",
    "<p>4 Append the example to TRAINING_DATA and inspect the printed data.</p>"
   ]
  },
  {
   "cell_type": "code",
   "execution_count": 2,
   "metadata": {},
   "outputs": [
    {
     "name": "stdout",
     "output_type": "stream",
     "text": [
      "('How to preorder the iPhone X', {'entities': [(20, 28, 'GADGET')]})\n",
      "('iPhone X is coming', {'entities': [(0, 8, 'GADGET')]})\n",
      "('Should I pay $1,000 for the iPhone X?', {'entities': [(28, 36, 'GADGET')]})\n",
      "('The iPhone 8 reviews are here', {'entities': [(4, 12, 'GADGET')]})\n",
      "(\"iPhone 11 vs iPhone 8: What's the difference?\", {'entities': [(0, 9, 'GADGET'), (13, 21, 'GADGET')]})\n",
      "('I need a new phone! Any tips?', {'entities': []})\n"
     ]
    }
   ],
   "source": [
    "from spacy.matcher import Matcher\n",
    "from spacy.lang.en import English\n",
    "\n",
    "TEXTS = ['How to preorder the iPhone X', 'iPhone X is coming', 'Should I pay $1,000 for the iPhone X?', 'The iPhone 8 reviews are here', \"iPhone 11 vs iPhone 8: What's the difference?\", 'I need a new phone! Any tips?']\n",
    "\n",
    "nlp = English()\n",
    "matcher = Matcher(nlp.vocab)\n",
    "pattern1 = [{\"LOWER\": \"iphone\"}, {\"LOWER\": \"x\"}]\n",
    "pattern2 = [{\"LOWER\": \"iphone\"}, {\"IS_DIGIT\": True}]\n",
    "matcher.add(\"GADGET\", None, pattern1, pattern2)\n",
    "\n",
    "TRAINING_DATA = []\n",
    "\n",
    "# Create a Doc object for each text in TEXTS\n",
    "for doc in nlp.pipe(TEXTS):\n",
    "    # Match on the doc and create a list of matched spans\n",
    "    spans = [doc[start: end] for match_id, start, end in matcher(doc)]\n",
    "    # Get (start character, end character, label) tuples of matches\n",
    "    entities = [(span.start_char, span.end_char, \"GADGET\") for span in spans]\n",
    "    # Format the matches as a (doc.text, entities) tuple\n",
    "    training_example = (doc.text, {\"entities\": entities})\n",
    "    # Append the example to the training data\n",
    "    TRAINING_DATA.append(training_example)\n",
    "\n",
    "print(*TRAINING_DATA, sep=\"\\n\")"
   ]
  },
  {
   "cell_type": "markdown",
   "metadata": {},
   "source": [
    "# The Training Loop"
   ]
  },
  {
   "cell_type": "markdown",
   "metadata": {},
   "source": [
    "<section data-markdown=\"\" data-markdown-parsed=\"true\" class=\"present\" style=\"display: block;\"><h1 id=\"the-steps-of-a-training-loop\">The steps of a training loop</h1>\n",
    "<ol>\n",
    "<li><strong>Loop</strong> for a number of times.</li>\n",
    "<li><strong>Shuffle</strong> the training data.</li>\n",
    "<li><strong>Divide</strong> the data into batches.</li>\n",
    "<li><strong>Update</strong> the model for each batch.</li>\n",
    "<li><strong>Save</strong> the updated model.</li>\n",
    "</ol>\n",
    "</section>\n",
    "\n",
    "<section data-markdown=\"\" data-markdown-parsed=\"true\" class=\"present\" style=\"display: block;\"><h1 id=\"example-loop\">Example loop</h1>\n",
    "<pre class=\" language-python\"><code class=\" language-python\">TRAINING_DATA <span class=\"token operator\">=</span> <span class=\"token punctuation\">[</span>\n",
    "    <span class=\"token punctuation\">(</span><span class=\"token string\">\"How to preorder the iPhone X\"</span><span class=\"token punctuation\">,</span> <span class=\"token punctuation\">{</span><span class=\"token string\">\"entities\"</span><span class=\"token punctuation\">:</span> <span class=\"token punctuation\">[</span><span class=\"token punctuation\">(</span><span class=\"token number\">20</span><span class=\"token punctuation\">,</span> <span class=\"token number\">28</span><span class=\"token punctuation\">,</span> <span class=\"token string\">\"GADGET\"</span><span class=\"token punctuation\">)</span><span class=\"token punctuation\">]</span><span class=\"token punctuation\">}</span><span class=\"token punctuation\">)</span>\n",
    "    <span class=\"token comment\"># And many more examples...</span>\n",
    "<span class=\"token punctuation\">]</span></code></pre>\n",
    "<pre class=\" language-python\"><code class=\" language-python\"><span class=\"token comment\"># Loop for 10 iterations</span>\n",
    "<span class=\"token keyword\">for</span> i <span class=\"token keyword\">in</span> <span class=\"token builtin\">range</span><span class=\"token punctuation\">(</span><span class=\"token number\">10</span><span class=\"token punctuation\">)</span><span class=\"token punctuation\">:</span>\n",
    "    <span class=\"token comment\"># Shuffle the training data</span>\n",
    "    random<span class=\"token punctuation\">.</span>shuffle<span class=\"token punctuation\">(</span>TRAINING_DATA<span class=\"token punctuation\">)</span>\n",
    "    <span class=\"token comment\"># Create batches and iterate over them</span>\n",
    "    <span class=\"token keyword\">for</span> batch <span class=\"token keyword\">in</span> spacy<span class=\"token punctuation\">.</span>util<span class=\"token punctuation\">.</span>minibatch<span class=\"token punctuation\">(</span>TRAINING_DATA<span class=\"token punctuation\">)</span><span class=\"token punctuation\">:</span>\n",
    "        <span class=\"token comment\"># Split the batch in texts and annotations</span>\n",
    "        texts <span class=\"token operator\">=</span> <span class=\"token punctuation\">[</span>text <span class=\"token keyword\">for</span> text<span class=\"token punctuation\">,</span> annotation <span class=\"token keyword\">in</span> batch<span class=\"token punctuation\">]</span>\n",
    "        annotations <span class=\"token operator\">=</span> <span class=\"token punctuation\">[</span>annotation <span class=\"token keyword\">for</span> text<span class=\"token punctuation\">,</span> annotation <span class=\"token keyword\">in</span> batch<span class=\"token punctuation\">]</span>\n",
    "        <span class=\"token comment\"># Update the model</span>\n",
    "        nlp<span class=\"token punctuation\">.</span>update<span class=\"token punctuation\">(</span>texts<span class=\"token punctuation\">,</span> annotations<span class=\"token punctuation\">)</span>\n",
    "\n",
    "<span class=\"token comment\"># Save the model</span>\n",
    "nlp<span class=\"token punctuation\">.</span>to_disk<span class=\"token punctuation\">(</span>path_to_model<span class=\"token punctuation\">)</span></code></pre>\n",
    "</section>\n",
    "\n",
    "<section data-markdown=\"\" data-markdown-parsed=\"true\" class=\"present\" style=\"display: block;\"><h1 id=\"setting-up-a-new-pipeline-from-scratch\">Setting up a new pipeline from scratch</h1>\n",
    "<pre class=\" language-python\"><code class=\" language-python\"><span class=\"token comment\"># Start with blank English model</span>\n",
    "nlp <span class=\"token operator\">=</span> spacy<span class=\"token punctuation\">.</span>blank<span class=\"token punctuation\">(</span><span class=\"token string\">\"en\"</span><span class=\"token punctuation\">)</span>\n",
    "<span class=\"token comment\"># Create blank entity recognizer and add it to the pipeline</span>\n",
    "ner <span class=\"token operator\">=</span> nlp<span class=\"token punctuation\">.</span>create_pipe<span class=\"token punctuation\">(</span><span class=\"token string\">\"ner\"</span><span class=\"token punctuation\">)</span>\n",
    "nlp<span class=\"token punctuation\">.</span>add_pipe<span class=\"token punctuation\">(</span>ner<span class=\"token punctuation\">)</span>\n",
    "<span class=\"token comment\"># Add a new label</span>\n",
    "ner<span class=\"token punctuation\">.</span>add_label<span class=\"token punctuation\">(</span><span class=\"token string\">\"GADGET\"</span><span class=\"token punctuation\">)</span>\n",
    "\n",
    "<span class=\"token comment\"># Start the training</span>\n",
    "nlp<span class=\"token punctuation\">.</span>begin_training<span class=\"token punctuation\">(</span><span class=\"token punctuation\">)</span>\n",
    "<span class=\"token comment\"># Train for 10 iterations</span>\n",
    "<span class=\"token keyword\">for</span> itn <span class=\"token keyword\">in</span> <span class=\"token builtin\">range</span><span class=\"token punctuation\">(</span><span class=\"token number\">10</span><span class=\"token punctuation\">)</span><span class=\"token punctuation\">:</span>\n",
    "    random<span class=\"token punctuation\">.</span>shuffle<span class=\"token punctuation\">(</span>examples<span class=\"token punctuation\">)</span>\n",
    "    <span class=\"token comment\"># Divide examples into batches</span>\n",
    "    <span class=\"token keyword\">for</span> batch <span class=\"token keyword\">in</span> spacy<span class=\"token punctuation\">.</span>util<span class=\"token punctuation\">.</span>minibatch<span class=\"token punctuation\">(</span>examples<span class=\"token punctuation\">,</span> size<span class=\"token operator\">=</span><span class=\"token number\">2</span><span class=\"token punctuation\">)</span><span class=\"token punctuation\">:</span>\n",
    "        texts <span class=\"token operator\">=</span> <span class=\"token punctuation\">[</span>text <span class=\"token keyword\">for</span> text<span class=\"token punctuation\">,</span> annotation <span class=\"token keyword\">in</span> batch<span class=\"token punctuation\">]</span>\n",
    "        annotations <span class=\"token operator\">=</span> <span class=\"token punctuation\">[</span>annotation <span class=\"token keyword\">for</span> text<span class=\"token punctuation\">,</span> annotation <span class=\"token keyword\">in</span> batch<span class=\"token punctuation\">]</span>\n",
    "        <span class=\"token comment\"># Update the model</span>\n",
    "        nlp<span class=\"token punctuation\">.</span>update<span class=\"token punctuation\">(</span>texts<span class=\"token punctuation\">,</span> annotations<span class=\"token punctuation\">)</span></code></pre>\n",
    "</section>"
   ]
  },
  {
   "cell_type": "markdown",
   "metadata": {},
   "source": [
    "# Practice"
   ]
  },
  {
   "cell_type": "markdown",
   "metadata": {},
   "source": [
    "<h3>Setting up the pipeline</h3>\n",
    "<p>1 Create a blank \"en\" model, for example using the spacy.blank method.</p>\n",
    "<p>2 Create a new entity recognizer using nlp.create_pipe and add it to the pipeline.</p>\n",
    "<p>3 Add the new label \"GADGET\" to the entity recognizer using the add_label method on the pipeline component.</p>"
   ]
  },
  {
   "cell_type": "code",
   "execution_count": 3,
   "metadata": {},
   "outputs": [],
   "source": [
    "import spacy\n",
    "\n",
    "# Create a blank \"en\" model\n",
    "nlp = spacy.blank(\"en\")\n",
    "\n",
    "# Create a new entity recognizer and add it to the pipeline\n",
    "ner = nlp.create_pipe(\"ner\")\n",
    "nlp.add_pipe(ner)\n",
    "\n",
    "# Add the label \"GADGET\" to the entity recognizer\n",
    "ner.add_label(\"GADGET\")"
   ]
  },
  {
   "cell_type": "markdown",
   "metadata": {},
   "source": [
    "<h3>Building a training loop</h3>\n",
    "<p>1 Call nlp.begin_training, create a training loop for 10 iterations and shuffle the training data.</p>\n",
    "<p>2 Create batches of training data using spacy.util.minibatch and iterate over the batches.</p>\n",
    "<p>3 Convert the (text, annotations) tuples in the batch to lists of texts and annotations.</p>\n",
    "<p>4 For each batch, use nlp.update to update the model with the texts and annotations.</p>"
   ]
  },
  {
   "cell_type": "code",
   "execution_count": 4,
   "metadata": {},
   "outputs": [
    {
     "name": "stdout",
     "output_type": "stream",
     "text": [
      "{'ner': 33.50006282329559}\n",
      "{'ner': 20.239550530910492}\n",
      "{'ner': 8.076356374192983}\n",
      "{'ner': 5.9776672299194615}\n",
      "{'ner': 10.819391730386997}\n",
      "{'ner': 6.543384524411522}\n",
      "{'ner': 3.674863284635876}\n",
      "{'ner': 1.8307197888055953}\n",
      "{'ner': 0.8525482789530088}\n",
      "{'ner': 2.1375879164635307}\n"
     ]
    }
   ],
   "source": [
    "import spacy\n",
    "import random\n",
    "\n",
    "TRAINING_DATA = [['How to preorder the iPhone X', {'entities': [[20, 28, 'GADGET']]}], ['iPhone X is coming', {'entities': [[0, 8, 'GADGET']]}], ['Should I pay $1,000 for the iPhone X?', {'entities': [[28, 36, 'GADGET']]}], ['The iPhone 8 reviews are here', {'entities': [[4, 12, 'GADGET']]}], ['Your iPhone goes up to 11 today', {'entities': [[5, 11, 'GADGET']]}], ['I need a new phone! Any tips?', {'entities': []}]]\n",
    "\n",
    "nlp = spacy.blank(\"en\")\n",
    "ner = nlp.create_pipe(\"ner\")\n",
    "nlp.add_pipe(ner)\n",
    "ner.add_label(\"GADGET\")\n",
    "\n",
    "# Start the training\n",
    "nlp.begin_training()\n",
    "\n",
    "# Loop for 10 iterations\n",
    "for itn in range(10):\n",
    "    # Shuffle the training data\n",
    "    random.shuffle(TRAINING_DATA)\n",
    "    losses = {}\n",
    "\n",
    "    # Batch the examples and iterate over them\n",
    "    for batch in spacy.util.minibatch(TRAINING_DATA, size=2):\n",
    "        texts = [text for text, entities in batch]\n",
    "        annotations = [entities for text, entities in batch]\n",
    "\n",
    "        # Update the model\n",
    "        nlp.update(texts, annotations, losses=losses)\n",
    "    print(losses)"
   ]
  }
 ],
 "metadata": {
  "kernelspec": {
   "display_name": "Python 3",
   "language": "python",
   "name": "python3"
  },
  "language_info": {
   "codemirror_mode": {
    "name": "ipython",
    "version": 3
   },
   "file_extension": ".py",
   "mimetype": "text/x-python",
   "name": "python",
   "nbconvert_exporter": "python",
   "pygments_lexer": "ipython3",
   "version": "3.7.6"
  }
 },
 "nbformat": 4,
 "nbformat_minor": 4
}
